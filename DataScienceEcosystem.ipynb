{
 "cells": [
  {
   "cell_type": "markdown",
   "id": "ebe221e7-fc63-4503-a0e5-9a0dbfa215f4",
   "metadata": {},
   "source": [
    "Data Science Tools and Ecosystem"
   ]
  },
  {
   "cell_type": "markdown",
   "id": "84eb9828-dee2-4b17-9061-3b2065574939",
   "metadata": {},
   "source": [
    "In this notebook, Data Science Tools and Ecosystem are summarized."
   ]
  },
  {
   "cell_type": "markdown",
   "id": "3a4560ad-aa48-492c-b398-f4a80c8059d5",
   "metadata": {},
   "source": [
    "**Objectives:**\n",
    "- Understand Markdown headings in Jupyter Notebook  \n",
    "- Create ordered and unordered lists  \n",
    "- Identify popular languages for Data Science (Python, R, SQL)  \n",
    "- Explore commonly used libraries (NumPy, Pandas, Matplotlib)  \n",
    "- Recognize popular tools and development environments (Jupyter Notebook, RStudio, Apache Spark)\n"
   ]
  },
  {
   "cell_type": "markdown",
   "id": "25558699-5e10-41a6-bc9b-1fd4a4c0639d",
   "metadata": {},
   "source": [
    "Some of the popular languages that Data Scientists use are:"
   ]
  },
  {
   "cell_type": "markdown",
   "id": "ade19fc4-8ce7-4cf1-a83d-000182b05dc7",
   "metadata": {},
   "source": [
    "1. Python\n",
    "2. R\n",
    "3. SQL"
   ]
  },
  {
   "cell_type": "markdown",
   "id": "415a2d51-03a8-4b0b-a84a-dc5251db8919",
   "metadata": {},
   "source": [
    "Some of the commonly used libraries used by Data Scientists include:"
   ]
  },
  {
   "cell_type": "markdown",
   "id": "8fad38c1-f629-4b9f-8092-01e9f6c3adf9",
   "metadata": {},
   "source": [
    "1. Pandas\n",
    "2. NumPy\n",
    "3. Matplotlib"
   ]
  },
  {
   "cell_type": "markdown",
   "id": "b6b3ed4b-99c9-4354-81d4-2dbaf4449931",
   "metadata": {},
   "source": [
    "| Data Science Tools |\n",
    "|--------------------|\n",
    "| Jupyter Notebook |\n",
    "| RStudio |\n",
    "| Apache Spark |"
   ]
  },
  {
   "cell_type": "markdown",
   "id": "42b673db-553c-47a2-b073-2e206ad322b6",
   "metadata": {},
   "source": [
    "### Below are a few examples of evaluating arithmetic expressions in Python"
   ]
  },
  {
   "cell_type": "code",
   "execution_count": 5,
   "id": "ad4b7491-a90e-4a9b-a38a-231cd0476eff",
   "metadata": {},
   "outputs": [
    {
     "data": {
      "text/plain": [
       "17"
      ]
     },
     "execution_count": 5,
     "metadata": {},
     "output_type": "execute_result"
    }
   ],
   "source": [
    "(3*4)+5\n",
    "# This a simple arithmetic expression to mutiply then add integers"
   ]
  },
  {
   "cell_type": "code",
   "execution_count": 6,
   "id": "9bc40610-1f93-4bc5-a09e-958c83671773",
   "metadata": {},
   "outputs": [
    {
     "name": "stdout",
     "output_type": "stream",
     "text": [
      "3.3333333333333335\n"
     ]
    }
   ],
   "source": [
    "Minutes = 200\n",
    "Hours = Minutes/60\n",
    "print (Hours)\n",
    "# This will convert 200 minutes to hours by diving by 60"
   ]
  },
  {
   "cell_type": "markdown",
   "id": "68b1f55c-8119-4364-94ac-2fbf6a67ad0b",
   "metadata": {},
   "source": [
    "## Author\n",
    "Chaithanya Santhosh"
   ]
  },
  {
   "cell_type": "code",
   "execution_count": null,
   "id": "817da6d1-3307-4169-b639-1440992f5e22",
   "metadata": {},
   "outputs": [],
   "source": []
  }
 ],
 "metadata": {
  "kernelspec": {
   "display_name": "Python 3 (ipykernel)",
   "language": "python",
   "name": "python3"
  },
  "language_info": {
   "codemirror_mode": {
    "name": "ipython",
    "version": 3
   },
   "file_extension": ".py",
   "mimetype": "text/x-python",
   "name": "python",
   "nbconvert_exporter": "python",
   "pygments_lexer": "ipython3",
   "version": "3.13.7"
  }
 },
 "nbformat": 4,
 "nbformat_minor": 5
}
